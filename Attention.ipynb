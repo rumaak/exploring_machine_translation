{
 "cells": [
  {
   "cell_type": "markdown",
   "metadata": {},
   "source": [
    "# Attention"
   ]
  },
  {
   "cell_type": "markdown",
   "metadata": {},
   "source": [
    "### Imports"
   ]
  },
  {
   "cell_type": "code",
   "execution_count": 1,
   "metadata": {},
   "outputs": [
    {
     "name": "stderr",
     "output_type": "stream",
     "text": [
      "d:\\programs\\anaconda3\\envs\\machine_translation\\lib\\importlib\\_bootstrap.py:219: RuntimeWarning: numpy.dtype size changed, may indicate binary incompatibility. Expected 96, got 88\n",
      "  return f(*args, **kwds)\n",
      "d:\\programs\\anaconda3\\envs\\machine_translation\\lib\\importlib\\_bootstrap.py:219: RuntimeWarning: numpy.ufunc size changed, may indicate binary incompatibility. Expected 192, got 176\n",
      "  return f(*args, **kwds)\n",
      "d:\\programs\\anaconda3\\envs\\machine_translation\\lib\\importlib\\_bootstrap.py:219: RuntimeWarning: numpy.dtype size changed, may indicate binary incompatibility. Expected 96, got 88\n",
      "  return f(*args, **kwds)\n",
      "d:\\programs\\anaconda3\\envs\\machine_translation\\lib\\importlib\\_bootstrap.py:219: RuntimeWarning: numpy.ufunc size changed, may indicate binary incompatibility. Expected 192, got 176\n",
      "  return f(*args, **kwds)\n"
     ]
    }
   ],
   "source": [
    "%load_ext autoreload\n",
    "%autoreload 2\n",
    "\n",
    "import matplotlib.pyplot as pl\n",
    "\n",
    "from tqdm import tqdm_notebook as tqdm\n",
    "\n",
    "from src.data.loader import load_multi30k, load_WMT14\n",
    "from src.data.raw_to_proc import proc_WMT14, proc_multi30k, create_WMT14_samp\n",
    "from src.models.lstm_rnn import SimpleEncoder,SimpleEncoderVLS,SimpleDecoder\n",
    "from src.models import fit,translate\n",
    "from src.models.RNN_search import GRU, AttnDecoder, AttnEncoder\n",
    "\n",
    "import random\n",
    "\n",
    "import torch\n",
    "import torch.nn as nn\n",
    "import torch.nn.functional as F\n",
    "import torch.optim as optim"
   ]
  },
  {
   "cell_type": "markdown",
   "metadata": {},
   "source": [
    "### Data preprocessing"
   ]
  },
  {
   "cell_type": "markdown",
   "metadata": {},
   "source": [
    "##### Accessing data"
   ]
  },
  {
   "cell_type": "code",
   "execution_count": 2,
   "metadata": {},
   "outputs": [],
   "source": [
    "train_iter, valid_iter, SRC, TRG = load_multi30k(1)\n",
    "src, trg = 'de','en'"
   ]
  },
  {
   "cell_type": "code",
   "execution_count": 3,
   "metadata": {},
   "outputs": [],
   "source": [
    "n_words_src = len(SRC.vocab)\n",
    "n_words_trg = len(TRG.vocab)"
   ]
  },
  {
   "cell_type": "code",
   "execution_count": 4,
   "metadata": {},
   "outputs": [],
   "source": [
    "pad_src_id = SRC.vocab.stoi['<pad>']\n",
    "pad_trg_id = TRG.vocab.stoi['<pad>']"
   ]
  },
  {
   "cell_type": "code",
   "execution_count": 5,
   "metadata": {},
   "outputs": [],
   "source": [
    "trg_sos_id = TRG.vocab.stoi['<SOS>']\n",
    "trg_eos_id = TRG.vocab.stoi['<EOS>']\n",
    "src_eos_id = SRC.vocab.stoi['<EOS>']"
   ]
  },
  {
   "cell_type": "code",
   "execution_count": 6,
   "metadata": {},
   "outputs": [],
   "source": [
    "train_len = len(train_iter)\n",
    "val_len = len(valid_iter)"
   ]
  },
  {
   "cell_type": "markdown",
   "metadata": {
    "heading_collapsed": true
   },
   "source": [
    "### Models"
   ]
  },
  {
   "cell_type": "markdown",
   "metadata": {
    "hidden": true
   },
   "source": [
    "##### Attention"
   ]
  },
  {
   "cell_type": "code",
   "execution_count": 10,
   "metadata": {
    "hidden": true
   },
   "outputs": [],
   "source": [
    "ex = next(iter(train_iter))\n",
    "ex_src, ex_trg = getattr(ex,src), getattr(ex,trg)"
   ]
  },
  {
   "cell_type": "code",
   "execution_count": 44,
   "metadata": {
    "hidden": true
   },
   "outputs": [
    {
     "data": {
      "text/plain": [
       "2"
      ]
     },
     "execution_count": 44,
     "metadata": {},
     "output_type": "execute_result"
    }
   ],
   "source": [
    "trg_sos_id"
   ]
  },
  {
   "cell_type": "code",
   "execution_count": 51,
   "metadata": {
    "hidden": true
   },
   "outputs": [
    {
     "data": {
      "text/plain": [
       "torch.Size([1, 1])"
      ]
     },
     "execution_count": 51,
     "metadata": {},
     "output_type": "execute_result"
    }
   ],
   "source": [
    "plevel = (torch.Tensor([trg_sos_id]).type(torch.long)[:,None]).cuda(); plevel.size()"
   ]
  },
  {
   "cell_type": "code",
   "execution_count": 54,
   "metadata": {
    "hidden": true
   },
   "outputs": [],
   "source": [
    "a = ex_trg[:,0][:,None]"
   ]
  },
  {
   "cell_type": "code",
   "execution_count": 60,
   "metadata": {
    "hidden": true
   },
   "outputs": [
    {
     "data": {
      "text/plain": [
       "torch.Size([15, 1])"
      ]
     },
     "execution_count": 60,
     "metadata": {},
     "output_type": "execute_result"
    }
   ],
   "source": [
    "a.size()"
   ]
  },
  {
   "cell_type": "code",
   "execution_count": 55,
   "metadata": {
    "hidden": true
   },
   "outputs": [],
   "source": [
    "out, _ = enc(a)"
   ]
  },
  {
   "cell_type": "code",
   "execution_count": 56,
   "metadata": {
    "hidden": true
   },
   "outputs": [
    {
     "data": {
      "text/plain": [
       "(torch.Size([15, 1, 10]), torch.Size([4, 1, 5]))"
      ]
     },
     "execution_count": 56,
     "metadata": {},
     "output_type": "execute_result"
    }
   ],
   "source": [
    "out.size(), hidd.size()"
   ]
  },
  {
   "cell_type": "code",
   "execution_count": 61,
   "metadata": {
    "hidden": true
   },
   "outputs": [
    {
     "data": {
      "text/plain": [
       "torch.Size([1, 1, 100000])"
      ]
     },
     "execution_count": 61,
     "metadata": {},
     "output_type": "execute_result"
    }
   ],
   "source": [
    "dec(out,None,plevel)[0].size()"
   ]
  },
  {
   "cell_type": "markdown",
   "metadata": {},
   "source": [
    "### Training "
   ]
  },
  {
   "cell_type": "markdown",
   "metadata": {
    "heading_collapsed": true
   },
   "source": [
    "##### LSTM RNN"
   ]
  },
  {
   "cell_type": "markdown",
   "metadata": {
    "hidden": true
   },
   "source": [
    "Setting up some training parameters - optimizers, learning rate, loss function, number of epochs"
   ]
  },
  {
   "cell_type": "code",
   "execution_count": 15,
   "metadata": {
    "hidden": true
   },
   "outputs": [],
   "source": [
    "opt_enc = optim.SGD(enc.parameters(),5e-2)\n",
    "opt_dec = optim.SGD(dec.parameters(),5e-2)\n",
    "loss_fn = F.nll_loss\n",
    "epochs = 1"
   ]
  },
  {
   "cell_type": "markdown",
   "metadata": {
    "hidden": true
   },
   "source": [
    "Depending on your choice of data and models you should choose one of those. In order to manipulate length of training you can change the end_train and end_val parameters. I suggest using print_every size 5 times smaller than end_train. It's also good idea to set teacher_forcing to zero in the later stages of training"
   ]
  },
  {
   "cell_type": "code",
   "execution_count": 11,
   "metadata": {
    "hidden": true
   },
   "outputs": [
    {
     "name": "stdout",
     "output_type": "stream",
     "text": [
      "1.0% done\n",
      "2.0% done\n",
      "3.0% done\n",
      "4.0% done\n",
      "5.0% done\n",
      "6.0% done\n",
      "7.0% done\n",
      "8.0% done\n",
      "9.0% done\n",
      "10.0% done\n",
      "11.0% done\n",
      "12.0% done\n",
      "13.0% done\n",
      "14.0% done\n",
      "15.0% done\n",
      "16.0% done\n",
      "17.0% done\n",
      "18.0% done\n",
      "19.0% done\n",
      "20.0% done\n",
      "Train: 5.350942218092066 \n",
      "Valid: 5.33647784655381 \n",
      "\n",
      "21.0% done\n",
      "22.0% done\n",
      "23.0% done\n",
      "24.0% done\n",
      "25.0% done\n",
      "26.0% done\n",
      "27.0% done\n",
      "28.0% done\n",
      "29.0% done\n",
      "30.0% done\n",
      "31.0% done\n",
      "32.0% done\n",
      "33.0% done\n",
      "34.0% done\n",
      "35.0% done\n",
      "36.0% done\n",
      "37.0% done\n",
      "38.0% done\n",
      "39.0% done\n",
      "40.0% done\n",
      "Train: 5.316898484907207 \n",
      "Valid: 5.309218650738869 \n",
      "\n",
      "41.0% done\n",
      "42.0% done\n",
      "43.0% done\n",
      "44.0% done\n",
      "45.0% done\n",
      "46.0% done\n",
      "47.0% done\n",
      "48.0% done\n",
      "49.0% done\n",
      "50.0% done\n",
      "51.0% done\n",
      "52.0% done\n",
      "53.0% done\n",
      "54.0% done\n",
      "55.0% done\n",
      "56.0% done\n",
      "57.0% done\n",
      "58.0% done\n",
      "59.0% done\n",
      "60.0% done\n",
      "Train: 5.200537258116216 \n",
      "Valid: 5.200820240043324 \n",
      "\n",
      "61.0% done\n",
      "62.0% done\n",
      "63.0% done\n",
      "64.0% done\n",
      "65.0% done\n",
      "66.0% done\n",
      "67.0% done\n",
      "68.0% done\n",
      "69.0% done\n",
      "70.0% done\n",
      "71.0% done\n",
      "72.0% done\n",
      "73.0% done\n",
      "74.0% done\n",
      "75.0% done\n",
      "76.0% done\n",
      "77.0% done\n",
      "78.0% done\n",
      "79.0% done\n",
      "80.0% done\n",
      "Train: 4.903539925049513 \n",
      "Valid: 4.922513263465385 \n",
      "\n",
      "81.0% done\n",
      "82.0% done\n",
      "83.0% done\n",
      "84.0% done\n",
      "85.0% done\n",
      "86.0% done\n",
      "87.0% done\n",
      "88.0% done\n",
      "89.0% done\n",
      "90.0% done\n",
      "91.0% done\n",
      "92.0% done\n",
      "93.0% done\n",
      "94.0% done\n",
      "95.0% done\n",
      "96.0% done\n",
      "97.0% done\n",
      "98.0% done\n",
      "99.0% done\n",
      "100.0% done\n",
      "Train: 4.850779306371301 \n",
      "Valid: 4.83715390653535 \n",
      "\n"
     ]
    }
   ],
   "source": [
    "fit.Multi30k(enc,dec,train_iter,valid_iter,epochs,opt_enc,opt_dec,loss_fn,n_words_trg, trg_sos_id,\n",
    "             end_train=train_len,end_val=val_len,print_every=int(train_len/5))"
   ]
  },
  {
   "cell_type": "code",
   "execution_count": 21,
   "metadata": {
    "hidden": true
   },
   "outputs": [
    {
     "name": "stdout",
     "output_type": "stream",
     "text": [
      "0.6% done\n",
      "1.1% done\n",
      "1.7% done\n",
      "2.2% done\n",
      "2.8% done\n",
      "3.3% done\n",
      "3.9% done\n",
      "4.4% done\n",
      "5.0% done\n",
      "5.5% done\n",
      "6.1% done\n",
      "6.6% done\n",
      "7.2% done\n",
      "7.7% done\n",
      "8.3% done\n",
      "8.8% done\n",
      "9.4% done\n",
      "9.9% done\n",
      "10.5% done\n",
      "11.0% done\n",
      "11.6% done\n",
      "12.2% done\n",
      "12.7% done\n",
      "13.3% done\n",
      "13.8% done\n",
      "14.4% done\n",
      "14.9% done\n",
      "15.5% done\n",
      "16.0% done\n",
      "16.6% done\n",
      "17.1% done\n",
      "17.7% done\n",
      "18.2% done\n",
      "18.8% done\n",
      "19.3% done\n",
      "19.9% done\n",
      "Train: 5.073108215524693 \n",
      "Valid: 5.1813329735187565 \n",
      "\n",
      "20.4% done\n",
      "21.0% done\n",
      "21.5% done\n",
      "22.1% done\n",
      "22.7% done\n",
      "23.2% done\n",
      "23.8% done\n",
      "24.3% done\n",
      "24.9% done\n",
      "25.4% done\n",
      "26.0% done\n",
      "26.5% done\n",
      "27.1% done\n",
      "27.6% done\n",
      "28.2% done\n",
      "28.7% done\n",
      "29.3% done\n",
      "29.8% done\n",
      "30.4% done\n",
      "30.9% done\n",
      "31.5% done\n",
      "32.0% done\n",
      "32.6% done\n",
      "33.1% done\n",
      "33.7% done\n",
      "34.3% done\n",
      "34.8% done\n",
      "35.4% done\n",
      "35.9% done\n",
      "36.5% done\n",
      "37.0% done\n",
      "37.6% done\n",
      "38.1% done\n",
      "38.7% done\n",
      "39.2% done\n",
      "39.8% done\n",
      "Train: 5.2609340686990755 \n",
      "Valid: 5.150072846749817 \n",
      "\n",
      "40.3% done\n",
      "40.9% done\n",
      "41.4% done\n",
      "42.0% done\n",
      "42.5% done\n",
      "43.1% done\n",
      "43.6% done\n",
      "44.2% done\n",
      "44.8% done\n",
      "45.3% done\n",
      "45.9% done\n",
      "46.4% done\n",
      "47.0% done\n",
      "47.5% done\n",
      "48.1% done\n",
      "48.6% done\n",
      "49.2% done\n",
      "49.7% done\n",
      "50.3% done\n",
      "50.8% done\n",
      "51.4% done\n",
      "51.9% done\n",
      "52.5% done\n",
      "53.0% done\n",
      "53.6% done\n",
      "54.1% done\n",
      "54.7% done\n",
      "55.2% done\n",
      "55.8% done\n",
      "56.4% done\n",
      "56.9% done\n",
      "57.5% done\n",
      "58.0% done\n",
      "58.6% done\n",
      "59.1% done\n",
      "59.7% done\n",
      "Train: 5.161083303316675 \n",
      "Valid: 5.251803461951439 \n",
      "\n",
      "60.2% done\n",
      "60.8% done\n",
      "61.3% done\n",
      "61.9% done\n",
      "62.4% done\n",
      "63.0% done\n",
      "63.5% done\n",
      "64.1% done\n",
      "64.6% done\n",
      "65.2% done\n",
      "65.7% done\n",
      "66.3% done\n",
      "66.9% done\n",
      "67.4% done\n",
      "68.0% done\n",
      "68.5% done\n",
      "69.1% done\n",
      "69.6% done\n",
      "70.2% done\n",
      "70.7% done\n",
      "71.3% done\n",
      "71.8% done\n",
      "72.4% done\n",
      "72.9% done\n",
      "73.5% done\n",
      "74.0% done\n",
      "74.6% done\n",
      "75.1% done\n",
      "75.7% done\n",
      "76.2% done\n",
      "76.8% done\n",
      "77.3% done\n",
      "77.9% done\n",
      "78.5% done\n",
      "79.0% done\n",
      "79.6% done\n",
      "Train: 5.275578630090964 \n",
      "Valid: 5.228825560723893 \n",
      "\n",
      "80.1% done\n",
      "80.7% done\n",
      "81.2% done\n",
      "81.8% done\n",
      "82.3% done\n",
      "82.9% done\n",
      "83.4% done\n",
      "84.0% done\n",
      "84.5% done\n",
      "85.1% done\n",
      "85.6% done\n",
      "86.2% done\n",
      "86.7% done\n",
      "87.3% done\n",
      "87.8% done\n",
      "88.4% done\n",
      "89.0% done\n",
      "89.5% done\n",
      "90.1% done\n",
      "90.6% done\n",
      "91.2% done\n",
      "91.7% done\n",
      "92.3% done\n",
      "92.8% done\n",
      "93.4% done\n",
      "93.9% done\n",
      "94.5% done\n",
      "95.0% done\n",
      "95.6% done\n",
      "96.1% done\n",
      "96.7% done\n",
      "97.2% done\n",
      "97.8% done\n",
      "98.3% done\n",
      "98.9% done\n",
      "99.4% done\n",
      "Train: 5.17569672820544 \n",
      "Valid: 5.021304919262125 \n",
      "\n",
      "100.0% done\n"
     ]
    }
   ],
   "source": [
    "fit.Multi30k_VLS(enc,dec,train_iter,valid_iter,epochs,opt_enc,opt_dec,loss_fn,n_words_trg, trg_sos_id,\n",
    "                 pad_src_id, pad_trg_id,end_train=int(train_len/5),end_val=int(val_len/5),\n",
    "                 print_every=int(train_len/(5*5)))"
   ]
  },
  {
   "cell_type": "code",
   "execution_count": 16,
   "metadata": {
    "hidden": true
   },
   "outputs": [
    {
     "name": "stdout",
     "output_type": "stream",
     "text": [
      "1.0% done\n",
      "2.0% done\n",
      "3.0% done\n",
      "4.0% done\n",
      "5.0% done\n",
      "6.0% done\n",
      "7.0% done\n",
      "8.0% done\n",
      "9.0% done\n",
      "10.0% done\n",
      "11.0% done\n",
      "11.9% done\n",
      "12.9% done\n",
      "13.9% done\n",
      "14.9% done\n",
      "15.9% done\n",
      "16.9% done\n",
      "17.9% done\n",
      "18.9% done\n",
      "19.9% done\n",
      "Train: 7.183032462994258 \n",
      "Valid: 7.198314721385638 \n",
      "\n",
      "20.9% done\n",
      "21.9% done\n",
      "22.9% done\n",
      "23.9% done\n",
      "24.9% done\n",
      "25.9% done\n",
      "26.9% done\n",
      "27.9% done\n",
      "28.9% done\n",
      "29.9% done\n",
      "30.9% done\n",
      "31.9% done\n",
      "32.9% done\n",
      "33.9% done\n",
      "34.9% done\n",
      "35.8% done\n",
      "36.8% done\n",
      "37.8% done\n",
      "38.8% done\n",
      "39.8% done\n",
      "Train: 6.854988818367322 \n",
      "Valid: 6.9456145738561945 \n",
      "\n",
      "40.8% done\n",
      "41.8% done\n",
      "42.8% done\n",
      "43.8% done\n",
      "44.8% done\n",
      "45.8% done\n",
      "46.8% done\n",
      "47.8% done\n",
      "48.8% done\n",
      "49.8% done\n",
      "50.8% done\n",
      "51.8% done\n",
      "52.8% done\n",
      "53.8% done\n",
      "54.8% done\n",
      "55.8% done\n",
      "56.8% done\n",
      "57.8% done\n",
      "58.7% done\n",
      "59.7% done\n",
      "Train: 7.104311967889468 \n",
      "Valid: 6.87798385322094 \n",
      "\n",
      "60.7% done\n",
      "61.7% done\n",
      "62.7% done\n",
      "63.7% done\n",
      "64.7% done\n",
      "65.7% done\n",
      "66.7% done\n",
      "67.7% done\n",
      "68.7% done\n",
      "69.7% done\n",
      "70.7% done\n",
      "71.7% done\n",
      "72.7% done\n",
      "73.7% done\n",
      "74.7% done\n",
      "75.7% done\n",
      "76.7% done\n",
      "77.7% done\n",
      "78.7% done\n",
      "79.7% done\n",
      "Train: 6.870434527595838 \n",
      "Valid: 7.00452895462513 \n",
      "\n",
      "80.7% done\n",
      "81.7% done\n",
      "82.6% done\n",
      "83.6% done\n",
      "84.6% done\n",
      "85.6% done\n",
      "86.6% done\n",
      "87.6% done\n",
      "88.6% done\n",
      "89.6% done\n",
      "90.6% done\n",
      "91.6% done\n",
      "92.6% done\n",
      "93.6% done\n",
      "94.6% done\n",
      "95.6% done\n",
      "96.6% done\n",
      "97.6% done\n",
      "98.6% done\n",
      "99.6% done\n",
      "Train: 7.0077323615550995 \n",
      "Valid: 6.898369203011195 \n",
      "\n"
     ]
    }
   ],
   "source": [
    "fit.WMT14(enc,dec,train_iter,valid_iter,epochs,opt_enc,opt_dec,loss_fn,n_words_trg,trg_sos_id,\n",
    "          end=int(train_len/10),print_every=int(train_len/(10*5)))"
   ]
  },
  {
   "cell_type": "markdown",
   "metadata": {
    "hidden": true
   },
   "source": [
    "Fit functions of Multi30k automatically save progress after each epoch, but these functions can be used to manually save / load models."
   ]
  },
  {
   "cell_type": "code",
   "execution_count": 10,
   "metadata": {
    "hidden": true
   },
   "outputs": [],
   "source": [
    "model_path_Multi30k = 'models/LSTM_RNN/Multi30k/'\n",
    "model_path_WMT14 = 'models/LSTM_RNN/WMT14/'"
   ]
  },
  {
   "cell_type": "markdown",
   "metadata": {
    "hidden": true
   },
   "source": [
    "Loading / saving Multi30k models"
   ]
  },
  {
   "cell_type": "code",
   "execution_count": 11,
   "metadata": {
    "hidden": true
   },
   "outputs": [],
   "source": [
    "enc.load_state_dict(torch.load(f'{model_path_Multi30k}enc.pt'))\n",
    "dec.load_state_dict(torch.load(f'{model_path_Multi30k}dec.pt'))"
   ]
  },
  {
   "cell_type": "code",
   "execution_count": null,
   "metadata": {
    "hidden": true
   },
   "outputs": [],
   "source": [
    "torch.save(enc.state_dict(), f'{model_path_Multi30k}enc.pt')\n",
    "torch.save(dec.state_dict(), f'{model_path_Multi30k}dec.pt')"
   ]
  },
  {
   "cell_type": "markdown",
   "metadata": {
    "hidden": true
   },
   "source": [
    "Loading / saving WMT14 models"
   ]
  },
  {
   "cell_type": "code",
   "execution_count": 18,
   "metadata": {
    "hidden": true
   },
   "outputs": [],
   "source": [
    "enc.load_state_dict(torch.load(f'{model_path_WMT14}enc.pt'))\n",
    "dec.load_state_dict(torch.load(f'{model_path_WMT14}dec.pt'))"
   ]
  },
  {
   "cell_type": "code",
   "execution_count": 17,
   "metadata": {
    "hidden": true
   },
   "outputs": [],
   "source": [
    "torch.save(enc.state_dict(), f'{model_path_WMT14}enc.pt')\n",
    "torch.save(dec.state_dict(), f'{model_path_WMT14}dec.pt')"
   ]
  },
  {
   "cell_type": "markdown",
   "metadata": {},
   "source": [
    "##### Attention"
   ]
  },
  {
   "cell_type": "code",
   "execution_count": 7,
   "metadata": {},
   "outputs": [],
   "source": [
    "enc = AttnEncoder(n_words = n_words_src, \n",
    "                  n_factors = 200, \n",
    "                  n_hidden = 150, \n",
    "                  n_layers = 2, \n",
    "                  bidirectional=True).cuda()\n",
    "dec = AttnDecoder(n_words = n_words_trg, \n",
    "                  n_factors = 150, \n",
    "                  n_hidden_dec = 150, \n",
    "                  n_hidden_enc = 150, \n",
    "                  n_allign = 100, \n",
    "                  n_layers = 1).cuda()"
   ]
  },
  {
   "cell_type": "code",
   "execution_count": 8,
   "metadata": {},
   "outputs": [],
   "source": [
    "opt_enc = optim.SGD(enc.parameters(),5e-2)\n",
    "opt_dec = optim.SGD(dec.parameters(),5e-2)\n",
    "loss_fn = F.nll_loss\n",
    "epochs = 3"
   ]
  },
  {
   "cell_type": "code",
   "execution_count": 10,
   "metadata": {},
   "outputs": [
    {
     "data": {
      "application/vnd.jupyter.widget-view+json": {
       "model_id": "09bb4ad0f5474306b2439cd6f2f2f68a",
       "version_major": 2,
       "version_minor": 0
      },
      "text/plain": [
       "HBox(children=(IntProgress(value=0, max=50), HTML(value='')))"
      ]
     },
     "metadata": {},
     "output_type": "display_data"
    },
    {
     "name": "stdout",
     "output_type": "stream",
     "text": [
      "\n",
      "Train: 7.7391585350036625 \n",
      "Valid: 7.937554502487183\n"
     ]
    },
    {
     "data": {
      "application/vnd.jupyter.widget-view+json": {
       "model_id": "03ab34e73c024aafbc1c5296e78da818",
       "version_major": 2,
       "version_minor": 0
      },
      "text/plain": [
       "HBox(children=(IntProgress(value=0, max=50), HTML(value='')))"
      ]
     },
     "metadata": {},
     "output_type": "display_data"
    },
    {
     "name": "stdout",
     "output_type": "stream",
     "text": [
      "\n",
      "Train: 7.157166337966919 \n",
      "Valid: 7.045469212532043\n"
     ]
    },
    {
     "data": {
      "application/vnd.jupyter.widget-view+json": {
       "model_id": "28920cd4b9bf4951b2389fbb0c7f96b7",
       "version_major": 2,
       "version_minor": 0
      },
      "text/plain": [
       "HBox(children=(IntProgress(value=0, max=50), HTML(value='')))"
      ]
     },
     "metadata": {},
     "output_type": "display_data"
    },
    {
     "name": "stdout",
     "output_type": "stream",
     "text": [
      "\n",
      "Train: 6.615322995185852 \n",
      "Valid: 6.667111206054687\n"
     ]
    },
    {
     "data": {
      "image/png": "[encoded data removed]",
      "text/plain": [
       "<Figure size 432x288 with 1 Axes>"
      ]
     },
     "metadata": {},
     "output_type": "display_data"
    }
   ],
   "source": [
    "fit.rnnsearch(enc, dec, train_iter, valid_iter, epochs, opt_enc, opt_dec, loss_fn, n_words_trg, \n",
    "          end_train=50, end_val=20, plot_every=5,save_every=30, batch_size=8)"
   ]
  },
  {
   "cell_type": "code",
   "execution_count": 35,
   "metadata": {},
   "outputs": [
    {
     "data": {
      "application/vnd.jupyter.widget-view+json": {
       "model_id": "b2ec30c5db1942ebbc34125027f924a7",
       "version_major": 2,
       "version_minor": 0
      },
      "text/plain": [
       "HBox(children=(IntProgress(value=0, max=50), HTML(value='')))"
      ]
     },
     "metadata": {},
     "output_type": "display_data"
    },
    {
     "name": "stdout",
     "output_type": "stream",
     "text": [
      "\n",
      "Train: 7.632281184196472 \n",
      "Valid: 7.559819889068604\n"
     ]
    },
    {
     "data": {
      "application/vnd.jupyter.widget-view+json": {
       "model_id": "263745ab859e4c228d1c866ff493fb06",
       "version_major": 2,
       "version_minor": 0
      },
      "text/plain": [
       "HBox(children=(IntProgress(value=0, max=50), HTML(value='')))"
      ]
     },
     "metadata": {},
     "output_type": "display_data"
    },
    {
     "name": "stdout",
     "output_type": "stream",
     "text": [
      "\n",
      "Train: 7.059024691581726 \n",
      "Valid: 7.211030101776123\n"
     ]
    },
    {
     "data": {
      "application/vnd.jupyter.widget-view+json": {
       "model_id": "c57c2b5449024082826c655f06099f5c",
       "version_major": 2,
       "version_minor": 0
      },
      "text/plain": [
       "HBox(children=(IntProgress(value=0, max=50), HTML(value='')))"
      ]
     },
     "metadata": {},
     "output_type": "display_data"
    },
    {
     "name": "stdout",
     "output_type": "stream",
     "text": [
      "\n",
      "Train: 6.614537215232849 \n",
      "Valid: 6.950641655921936\n"
     ]
    },
    {
     "data": {
      "image/png": "[encoded data removed]",
      "text/plain": [
       "<Figure size 432x288 with 1 Axes>"
      ]
     },
     "metadata": {},
     "output_type": "display_data"
    }
   ],
   "source": [
    "fit_rnnsearch_online(enc, dec, train_iter, valid_iter, epochs, opt_enc, opt_dec, loss_fn, n_words_trg, \n",
    "                     end_train=50, end_val=20, plot_every=5,save_every=30)"
   ]
  },
  {
   "cell_type": "markdown",
   "metadata": {},
   "source": [
    "### Analysis"
   ]
  },
  {
   "cell_type": "markdown",
   "metadata": {},
   "source": [
    "We won't dig deep into the model's workings / performance. For now, we will only look at examples of the model's translations. This will give us some insight into it's capabilities and we will also be able to better interpret the results given by applying custom metric."
   ]
  },
  {
   "cell_type": "markdown",
   "metadata": {},
   "source": [
    "##### LSTM RNN"
   ]
  },
  {
   "cell_type": "markdown",
   "metadata": {},
   "source": [
    "To get new example, simply reload the line below. "
   ]
  },
  {
   "cell_type": "code",
   "execution_count": 12,
   "metadata": {},
   "outputs": [],
   "source": [
    "rand_ex = next(iter(valid_iter))\n",
    "ex_src,ex_trg = getattr(rand_ex,src),getattr(rand_ex,trg)"
   ]
  },
  {
   "cell_type": "markdown",
   "metadata": {},
   "source": [
    "These two cells show what we are going to translate and it's human translation."
   ]
  },
  {
   "cell_type": "code",
   "execution_count": 13,
   "metadata": {},
   "outputs": [
    {
     "data": {
      "text/plain": [
       "['mehrere',\n",
       " 'menschen',\n",
       " 'stehen',\n",
       " 'in',\n",
       " 'der',\n",
       " 'dämmerung',\n",
       " 'in',\n",
       " 'der',\n",
       " 'nähe',\n",
       " 'einiger',\n",
       " 'bäume',\n",
       " '<EOS>']"
      ]
     },
     "execution_count": 13,
     "metadata": {},
     "output_type": "execute_result"
    }
   ],
   "source": [
    "[SRC.vocab.itos[x] for x in ex_src[:,0]]"
   ]
  },
  {
   "cell_type": "code",
   "execution_count": 14,
   "metadata": {},
   "outputs": [
    {
     "data": {
      "text/plain": [
       "['<SOS>',\n",
       " 'several',\n",
       " 'people',\n",
       " 'are',\n",
       " 'standing',\n",
       " 'near',\n",
       " 'trees',\n",
       " 'at',\n",
       " 'dusk',\n",
       " '<EOS>',\n",
       " '<pad>']"
      ]
     },
     "execution_count": 14,
     "metadata": {},
     "output_type": "execute_result"
    }
   ],
   "source": [
    "[TRG.vocab.itos[x] for x in ex_trg[:,0]]"
   ]
  },
  {
   "cell_type": "markdown",
   "metadata": {},
   "source": [
    "Here we use our model to translate the sentence. Choose appropriate translate function (Multi30k, Multi30k_VLS and WMT14 respectively)."
   ]
  },
  {
   "cell_type": "code",
   "execution_count": 42,
   "metadata": {},
   "outputs": [],
   "source": [
    "sent_ids = translate.Multi30k(enc,dec,trg_sos_id,trg_eos_id,ex_src)"
   ]
  },
  {
   "cell_type": "code",
   "execution_count": 16,
   "metadata": {},
   "outputs": [],
   "source": [
    "sent_ids = translate.Multi30k_VLS(enc,dec,trg_sos_id,trg_eos_id,pad_src_id,ex_src[:,0][:,None])"
   ]
  },
  {
   "cell_type": "code",
   "execution_count": 22,
   "metadata": {},
   "outputs": [],
   "source": [
    "sent_ids = translate.WMT14(enc,dec,trg_sos_id,trg_eos_id,ex_src)"
   ]
  },
  {
   "cell_type": "markdown",
   "metadata": {},
   "source": [
    "Now we can take a look at the sentence our model created."
   ]
  },
  {
   "cell_type": "code",
   "execution_count": 17,
   "metadata": {},
   "outputs": [
    {
     "data": {
      "text/plain": [
       "['several', 'people', 'are', 'people', 'in', 'near', 'a', 'a', 'a', '<EOS>']"
      ]
     },
     "execution_count": 17,
     "metadata": {},
     "output_type": "execute_result"
    }
   ],
   "source": [
    "[TRG.vocab.itos[x] for x in sent_ids]"
   ]
  }
 ],
 "metadata": {
  "kernelspec": {
   "display_name": "Python 3",
   "language": "python",
   "name": "python3"
  },
  "language_info": {
   "codemirror_mode": {
    "name": "ipython",
    "version": 3
   },
   "file_extension": ".py",
   "mimetype": "text/x-python",
   "name": "python",
   "nbconvert_exporter": "python",
   "pygments_lexer": "ipython3",
   "version": "3.7.0"
  }
 },
 "nbformat": 4,
 "nbformat_minor": 2
}
