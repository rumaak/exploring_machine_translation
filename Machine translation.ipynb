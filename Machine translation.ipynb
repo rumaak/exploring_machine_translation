{
 "cells": [
  {
   "cell_type": "markdown",
   "metadata": {},
   "source": [
    "# Machine translation"
   ]
  },
  {
   "cell_type": "markdown",
   "metadata": {},
   "source": [
    "I made this project to get more familiar with NLP and learn something about Machine translation, as well as practice working with torch and torchtext. The ultimate goal was to create a machine translation pipeline, going from raw data to trained algorithm, and adjust it according to currently used data / architecture. This notebook puts all the modules together."
   ]
  },
  {
   "cell_type": "markdown",
   "metadata": {},
   "source": [
    "I won't present all the code here. For anyone curious, I encourage you to check out the source code. Set up GPU is assumed."
   ]
  },
  {
   "cell_type": "markdown",
   "metadata": {
    "heading_collapsed": true
   },
   "source": [
    "### Prerequisities"
   ]
  },
  {
   "cell_type": "markdown",
   "metadata": {
    "heading_collapsed": true,
    "hidden": true
   },
   "source": [
    "##### Datasets"
   ]
  },
  {
   "cell_type": "markdown",
   "metadata": {
    "hidden": true
   },
   "source": [
    "WMT14\n",
    "- download https://1drv.ms/f/s!AiQ5a2cXVytTlkZD0HQn5FdGRgB2\n",
    "- move to data/WMT14\n",
    "\n",
    "Multi30k\n",
    "- download https://1drv.ms/f/s!AiQ5a2cXVytTllU4usk93QbPGv1s\n",
    "- move to data/Multi30k"
   ]
  },
  {
   "cell_type": "markdown",
   "metadata": {
    "heading_collapsed": true,
    "hidden": true
   },
   "source": [
    "##### Environment"
   ]
  },
  {
   "cell_type": "markdown",
   "metadata": {
    "hidden": true
   },
   "source": [
    "I highly recommend setting up a conda environment before installing packages.\n",
    "- navigate to root\n",
    "- pip install -r requirements.txt"
   ]
  },
  {
   "cell_type": "markdown",
   "metadata": {
    "heading_collapsed": true
   },
   "source": [
    "### Imports"
   ]
  },
  {
   "cell_type": "code",
   "execution_count": 13,
   "metadata": {
    "hidden": true
   },
   "outputs": [
    {
     "name": "stdout",
     "output_type": "stream",
     "text": [
      "The autoreload extension is already loaded. To reload it, use:\n",
      "  %reload_ext autoreload\n"
     ]
    }
   ],
   "source": [
    "%load_ext autoreload\n",
    "%autoreload 2\n",
    "\n",
    "import time\n",
    "\n",
    "from src.data.loader import load_multi30k, load_WMT14\n",
    "from src.data.raw_to_proc import proc_WMT14, proc_multi30k, create_WMT14_samp\n",
    "from src.models.lstm_rnn import SimpleEncoder,SimpleEncoderVLS,SimpleDecoder\n",
    "from src.models.RNN_search import AttnEncoder, AttnDecoder\n",
    "from src.models import fit,translate\n",
    "\n",
    "import torch\n",
    "import torch.nn.functional as F\n",
    "import torch.optim as optim"
   ]
  },
  {
   "cell_type": "markdown",
   "metadata": {
    "heading_collapsed": true
   },
   "source": [
    "### Data preprocessing"
   ]
  },
  {
   "cell_type": "markdown",
   "metadata": {
    "heading_collapsed": true,
    "hidden": true
   },
   "source": [
    "##### Restructuring"
   ]
  },
  {
   "cell_type": "markdown",
   "metadata": {
    "hidden": true
   },
   "source": [
    "Although the downloads provide both raw and processed datasets, I would like to share functions used on raw data to create the processed data."
   ]
  },
  {
   "cell_type": "code",
   "execution_count": null,
   "metadata": {
    "hidden": true
   },
   "outputs": [],
   "source": [
    "proc_multi30k()\n",
    "proc_WMT14()\n",
    "create_WMT14_samp()"
   ]
  },
  {
   "cell_type": "markdown",
   "metadata": {
    "heading_collapsed": true,
    "hidden": true
   },
   "source": [
    "##### Accessing data"
   ]
  },
  {
   "cell_type": "markdown",
   "metadata": {
    "hidden": true
   },
   "source": [
    "These functions are used to get access to 3 dataset loaders - WMT14 with batch size 1, Multi30k with batch size 1 and Multi30k with custom batch size (I chose 32). My implementation doesn't support other batch sizes for WMT14. The two variants of Multi30k will be used to showcase certain features of batching when using RNNs."
   ]
  },
  {
   "cell_type": "markdown",
   "metadata": {
    "hidden": true
   },
   "source": [
    "WMT14 dataset is czech-english, Multi30k is german-english. We are going to translate to english in both cases, hence TRG corresponds to english vocab and SRC corresponds to either czech or german vocab."
   ]
  },
  {
   "cell_type": "code",
   "execution_count": 2,
   "metadata": {
    "hidden": true
   },
   "outputs": [],
   "source": [
    "train_iter, valid_iter, SRC, TRG = load_WMT14(1)\n",
    "src, trg = 'src','trg'\n",
    "ds_name = 'WMT14'"
   ]
  },
  {
   "cell_type": "code",
   "execution_count": 2,
   "metadata": {
    "hidden": true
   },
   "outputs": [],
   "source": [
    "train_iter, valid_iter, SRC, TRG = load_multi30k(1)\n",
    "src, trg = 'de','en'\n",
    "ds_name = 'Multi30k'"
   ]
  },
  {
   "cell_type": "code",
   "execution_count": 2,
   "metadata": {
    "hidden": true
   },
   "outputs": [],
   "source": [
    "train_iter, valid_iter, SRC, TRG = load_multi30k(32)\n",
    "src, trg = 'de','en'\n",
    "ds_name = 'Multi30k'"
   ]
  },
  {
   "cell_type": "markdown",
   "metadata": {
    "hidden": true
   },
   "source": [
    "Let's set some useful variables too."
   ]
  },
  {
   "cell_type": "code",
   "execution_count": 3,
   "metadata": {
    "hidden": true
   },
   "outputs": [],
   "source": [
    "n_words_src = len(SRC.vocab)\n",
    "n_words_trg = len(TRG.vocab)"
   ]
  },
  {
   "cell_type": "code",
   "execution_count": 4,
   "metadata": {
    "hidden": true
   },
   "outputs": [],
   "source": [
    "pad_src_id = SRC.vocab.stoi['<pad>']\n",
    "pad_trg_id = TRG.vocab.stoi['<pad>']"
   ]
  },
  {
   "cell_type": "code",
   "execution_count": 5,
   "metadata": {
    "hidden": true
   },
   "outputs": [],
   "source": [
    "trg_sos_id = TRG.vocab.stoi['<SOS>']\n",
    "trg_eos_id = TRG.vocab.stoi['<EOS>']\n",
    "src_eos_id = SRC.vocab.stoi['<EOS>']"
   ]
  },
  {
   "cell_type": "code",
   "execution_count": 6,
   "metadata": {
    "hidden": true
   },
   "outputs": [],
   "source": [
    "train_len = len(train_iter)\n",
    "val_len = len(valid_iter)"
   ]
  },
  {
   "cell_type": "markdown",
   "metadata": {
    "heading_collapsed": true
   },
   "source": [
    "### Models"
   ]
  },
  {
   "cell_type": "markdown",
   "metadata": {
    "heading_collapsed": true,
    "hidden": true
   },
   "source": [
    "##### LSTM RNN"
   ]
  },
  {
   "cell_type": "code",
   "execution_count": 109,
   "metadata": {
    "hidden": true
   },
   "outputs": [],
   "source": [
    "model_name = 'LSTM_RNN'"
   ]
  },
  {
   "cell_type": "markdown",
   "metadata": {
    "hidden": true
   },
   "source": [
    "Setting some basic parameters for network - sizes of embedding vectors and hidden layers."
   ]
  },
  {
   "cell_type": "code",
   "execution_count": 110,
   "metadata": {
    "hidden": true
   },
   "outputs": [],
   "source": [
    "embedding_size_src = 300\n",
    "embedding_size_trg = 300"
   ]
  },
  {
   "cell_type": "code",
   "execution_count": 111,
   "metadata": {
    "hidden": true
   },
   "outputs": [],
   "source": [
    "n_hidden_src = 200\n",
    "n_hidden_trg = 200"
   ]
  },
  {
   "cell_type": "markdown",
   "metadata": {
    "hidden": true
   },
   "source": [
    "This is the most basic type of model we will use. For practical reasons, we are going to treat encoder and decoder separately. The pair below is only capable of single-sequence input processing."
   ]
  },
  {
   "cell_type": "code",
   "execution_count": 112,
   "metadata": {
    "hidden": true
   },
   "outputs": [],
   "source": [
    "enc = SimpleEncoder(n_words_src,embedding_size_src,n_hidden_src).cuda()\n",
    "dec = SimpleDecoder(n_words_trg,embedding_size_trg,n_hidden_trg).cuda()"
   ]
  },
  {
   "cell_type": "markdown",
   "metadata": {
    "hidden": true
   },
   "source": [
    "The pair below is able to work with batch of VLS (variable length sequences). Because we are working with RNNs, parallel computation isn't as straightforward as in the case of other architectures, especially in our case with big amount of short sequences of variable lengths. The real dealbreaker here is the fact that we have pairs of sequences, meaning we can't simply join together the ones with least padding. As a solution, I have tried to implement PyTorch PackedSequence objects, with at least some succes. "
   ]
  },
  {
   "cell_type": "code",
   "execution_count": 25,
   "metadata": {
    "hidden": true
   },
   "outputs": [],
   "source": [
    "enc = SimpleEncoderVLS(n_words_src,embedding_size_src,n_hidden_src,pad_src_id).cuda()\n",
    "dec = SimpleDecoder(n_words_trg,embedding_size_trg,n_hidden_trg).cuda()"
   ]
  },
  {
   "cell_type": "markdown",
   "metadata": {
    "hidden": true
   },
   "source": [
    "The hyperparameters used can be changed as needed."
   ]
  },
  {
   "cell_type": "markdown",
   "metadata": {
    "heading_collapsed": true,
    "hidden": true
   },
   "source": [
    "##### RNNsearch"
   ]
  },
  {
   "cell_type": "code",
   "execution_count": 93,
   "metadata": {
    "hidden": true
   },
   "outputs": [],
   "source": [
    "model_name = 'RNNsearch'"
   ]
  },
  {
   "cell_type": "markdown",
   "metadata": {
    "hidden": true
   },
   "source": [
    "Here we also need to set some additional parameters - number of layers in encoder / decoder and number of hidden units in alignment network."
   ]
  },
  {
   "cell_type": "code",
   "execution_count": 94,
   "metadata": {
    "hidden": true
   },
   "outputs": [],
   "source": [
    "embedding_size_src = 200\n",
    "embedding_size_trg = 200"
   ]
  },
  {
   "cell_type": "code",
   "execution_count": 95,
   "metadata": {
    "hidden": true
   },
   "outputs": [],
   "source": [
    "n_hidden_src = 150\n",
    "n_hidden_trg = 150"
   ]
  },
  {
   "cell_type": "code",
   "execution_count": 96,
   "metadata": {
    "hidden": true
   },
   "outputs": [],
   "source": [
    "n_layers_src = 1\n",
    "n_layers_trg = 1"
   ]
  },
  {
   "cell_type": "code",
   "execution_count": 97,
   "metadata": {
    "hidden": true
   },
   "outputs": [],
   "source": [
    "n_allign = 150"
   ]
  },
  {
   "cell_type": "code",
   "execution_count": 98,
   "metadata": {
    "hidden": true
   },
   "outputs": [],
   "source": [
    "bidirectional = True\n",
    "n_dir_enc = 1 if not bidirectional else 2"
   ]
  },
  {
   "cell_type": "code",
   "execution_count": 99,
   "metadata": {
    "hidden": true
   },
   "outputs": [],
   "source": [
    "n_l = 150"
   ]
  },
  {
   "cell_type": "markdown",
   "metadata": {
    "hidden": true
   },
   "source": [
    "In this case, I wasn't able (yet) to come up with a solution for parallel computation of batches of data, so here I only provide model capable of using only one example at a time."
   ]
  },
  {
   "cell_type": "code",
   "execution_count": 100,
   "metadata": {
    "hidden": true
   },
   "outputs": [],
   "source": [
    "enc = AttnEncoder(n_words_src,embedding_size_src,n_hidden_src,n_layers_src,bidirectional=True).cuda()\n",
    "dec = AttnDecoder(n_words_trg,embedding_size_trg,n_hidden_trg,n_hidden_src,n_dir_enc,n_allign,\n",
    "                  n_layers_trg, n_l).cuda()"
   ]
  },
  {
   "cell_type": "markdown",
   "metadata": {
    "hidden": true
   },
   "source": [
    "The hyperparameters used can be changed as needed."
   ]
  },
  {
   "cell_type": "markdown",
   "metadata": {
    "heading_collapsed": true
   },
   "source": [
    "### Training "
   ]
  },
  {
   "cell_type": "markdown",
   "metadata": {
    "heading_collapsed": true,
    "hidden": true
   },
   "source": [
    "##### LSTM RNN"
   ]
  },
  {
   "cell_type": "markdown",
   "metadata": {
    "hidden": true
   },
   "source": [
    "Setting up some training parameters - optimizers, learning rate, loss function, number of epochs"
   ]
  },
  {
   "cell_type": "code",
   "execution_count": 11,
   "metadata": {
    "hidden": true
   },
   "outputs": [],
   "source": [
    "opt_enc = optim.Adadelta(enc.parameters())\n",
    "opt_dec = optim.Adadelta(dec.parameters())\n",
    "loss_fn = F.nll_loss\n",
    "epochs = 1"
   ]
  },
  {
   "cell_type": "markdown",
   "metadata": {
    "hidden": true
   },
   "source": [
    "This set of functions should be used for non-VLS model. As can be seen, manual teacher forcing scheduling is done in this case. In order to manipulate length of training you can change the end_train and end_val parameters. I suggest using print_every size 5 times smaller than end_train."
   ]
  },
  {
   "cell_type": "code",
   "execution_count": 15,
   "metadata": {
    "hidden": true
   },
   "outputs": [],
   "source": [
    "t0 = time.time()"
   ]
  },
  {
   "cell_type": "code",
   "execution_count": 16,
   "metadata": {
    "hidden": true
   },
   "outputs": [],
   "source": [
    "end_train = int(train_len)\n",
    "end_val = int(val_len/10)\n",
    "print_every = int(train_len/5)\n",
    "teacher_forcing = 0.8"
   ]
  },
  {
   "cell_type": "code",
   "execution_count": 17,
   "metadata": {
    "hidden": true,
    "scrolled": false
   },
   "outputs": [
    {
     "name": "stdout",
     "output_type": "stream",
     "text": [
      "10.0% done\n",
      "20.0% done\n",
      "Train: 5.859718976634563 \n",
      "Valid: 5.653533758503376 \n",
      "\n",
      "30.0% done\n",
      "40.0% done\n",
      "Train: 5.499934184669268 \n",
      "Valid: 5.676446093191014 \n",
      "\n",
      "50.0% done\n",
      "60.0% done\n",
      "Train: 5.298372957966115 \n",
      "Valid: 5.372390836772352 \n",
      "\n",
      "70.0% done\n",
      "80.0% done\n",
      "Train: 5.409671908558005 \n",
      "Valid: 5.037766279560505 \n",
      "\n",
      "90.0% done\n",
      "100.0% done\n",
      "Train: 5.398126632860391 \n",
      "Valid: 5.182071826245525 \n",
      "\n"
     ]
    }
   ],
   "source": [
    "fit.lstm_rnn(enc,dec,train_iter,valid_iter,epochs,opt_enc,opt_dec,loss_fn,n_words_trg, trg_sos_id,\n",
    "             src, trg, ds_name, model_name, end_train=end_train,end_val=end_val, print_every=print_every,\n",
    "             teacher_forcing=teacher_forcing)"
   ]
  },
  {
   "cell_type": "code",
   "execution_count": 18,
   "metadata": {
    "hidden": true
   },
   "outputs": [],
   "source": [
    "teacher_forcing = 0.6"
   ]
  },
  {
   "cell_type": "code",
   "execution_count": 19,
   "metadata": {
    "hidden": true
   },
   "outputs": [
    {
     "name": "stdout",
     "output_type": "stream",
     "text": [
      "10.0% done\n",
      "20.0% done\n",
      "Train: 5.039050196657087 \n",
      "Valid: 5.181003508001271 \n",
      "\n",
      "30.0% done\n",
      "40.0% done\n",
      "Train: 5.0462018876972765 \n",
      "Valid: 5.107460155345426 \n",
      "\n",
      "50.0% done\n",
      "60.0% done\n",
      "Train: 5.182270480854677 \n",
      "Valid: 5.07077419875872 \n",
      "\n",
      "70.0% done\n",
      "80.0% done\n",
      "Train: 5.125636315581822 \n",
      "Valid: 4.995105342109604 \n",
      "\n",
      "90.0% done\n",
      "100.0% done\n",
      "Train: 5.0669068487563935 \n",
      "Valid: 4.96810502817135 \n",
      "\n"
     ]
    }
   ],
   "source": [
    "fit.lstm_rnn(enc,dec,train_iter,valid_iter,epochs,opt_enc,opt_dec,loss_fn,n_words_trg, trg_sos_id,\n",
    "             src, trg, ds_name, model_name, end_train=end_train,end_val=end_val, print_every=print_every,\n",
    "             teacher_forcing=teacher_forcing)"
   ]
  },
  {
   "cell_type": "code",
   "execution_count": 20,
   "metadata": {
    "hidden": true
   },
   "outputs": [],
   "source": [
    "teacher_forcing = 0.4"
   ]
  },
  {
   "cell_type": "code",
   "execution_count": 21,
   "metadata": {
    "hidden": true
   },
   "outputs": [
    {
     "name": "stdout",
     "output_type": "stream",
     "text": [
      "10.0% done\n",
      "20.0% done\n",
      "Train: 4.881178612756257 \n",
      "Valid: 5.005245416471274 \n",
      "\n",
      "30.0% done\n",
      "40.0% done\n",
      "Train: 5.051450948904057 \n",
      "Valid: 4.868481581754024 \n",
      "\n",
      "50.0% done\n",
      "60.0% done\n",
      "Train: 4.746594539963373 \n",
      "Valid: 4.88714057620209 \n",
      "\n",
      "70.0% done\n",
      "80.0% done\n",
      "Train: 4.708701044025988 \n",
      "Valid: 4.750287104361128 \n",
      "\n",
      "90.0% done\n",
      "100.0% done\n",
      "Train: 4.854624711640991 \n",
      "Valid: 4.784129020011071 \n",
      "\n"
     ]
    }
   ],
   "source": [
    "fit.lstm_rnn(enc,dec,train_iter,valid_iter,epochs,opt_enc,opt_dec,loss_fn,n_words_trg, trg_sos_id,\n",
    "             src, trg, ds_name, model_name, end_train=end_train,end_val=end_val, print_every=print_every,\n",
    "             teacher_forcing=teacher_forcing)"
   ]
  },
  {
   "cell_type": "code",
   "execution_count": 22,
   "metadata": {
    "hidden": true
   },
   "outputs": [],
   "source": [
    "teacher_forcing = 0.2"
   ]
  },
  {
   "cell_type": "code",
   "execution_count": 23,
   "metadata": {
    "hidden": true
   },
   "outputs": [
    {
     "name": "stdout",
     "output_type": "stream",
     "text": [
      "10.0% done\n",
      "20.0% done\n",
      "Train: 4.7720833993194125 \n",
      "Valid: 4.793815859473578 \n",
      "\n",
      "30.0% done\n",
      "40.0% done\n",
      "Train: 4.778045682623835 \n",
      "Valid: 4.720992981797398 \n",
      "\n",
      "50.0% done\n",
      "60.0% done\n",
      "Train: 4.548701863477726 \n",
      "Valid: 4.929835203850623 \n",
      "\n",
      "70.0% done\n",
      "80.0% done\n",
      "Train: 4.890542277015082 \n",
      "Valid: 4.801950160819705 \n",
      "\n",
      "90.0% done\n",
      "100.0% done\n",
      "Train: 4.788531976171059 \n",
      "Valid: 4.909148868947926 \n",
      "\n"
     ]
    }
   ],
   "source": [
    "fit.lstm_rnn(enc,dec,train_iter,valid_iter,epochs,opt_enc,opt_dec,loss_fn,n_words_trg, trg_sos_id,\n",
    "             src, trg, ds_name, model_name, end_train=end_train,end_val=end_val, print_every=print_every,\n",
    "             teacher_forcing=teacher_forcing)"
   ]
  },
  {
   "cell_type": "code",
   "execution_count": 24,
   "metadata": {
    "hidden": true
   },
   "outputs": [],
   "source": [
    "teacher_forcing = 0"
   ]
  },
  {
   "cell_type": "code",
   "execution_count": 25,
   "metadata": {
    "hidden": true
   },
   "outputs": [
    {
     "name": "stdout",
     "output_type": "stream",
     "text": [
      "10.0% done\n",
      "20.0% done\n",
      "Train: 4.41934333343317 \n",
      "Valid: 4.839534026561397 \n",
      "\n",
      "30.0% done\n",
      "40.0% done\n",
      "Train: 4.90981662155378 \n",
      "Valid: 4.9470441317794345 \n",
      "\n",
      "50.0% done\n",
      "60.0% done\n",
      "Train: 4.806883782443434 \n",
      "Valid: 4.87801193482805 \n",
      "\n",
      "70.0% done\n",
      "80.0% done\n",
      "Train: 4.596715621428914 \n",
      "Valid: 4.821538231160381 \n",
      "\n",
      "90.0% done\n",
      "100.0% done\n",
      "Train: 4.801903214785132 \n",
      "Valid: 4.800157905805229 \n",
      "\n"
     ]
    }
   ],
   "source": [
    "fit.lstm_rnn(enc,dec,train_iter,valid_iter,epochs,opt_enc,opt_dec,loss_fn,n_words_trg, trg_sos_id,\n",
    "             src, trg, ds_name, model_name, end_train=end_train,end_val=end_val, print_every=print_every,\n",
    "             teacher_forcing=teacher_forcing)"
   ]
  },
  {
   "cell_type": "code",
   "execution_count": 26,
   "metadata": {
    "hidden": true
   },
   "outputs": [
    {
     "data": {
      "text/plain": [
       "7154.458283901215"
      ]
     },
     "execution_count": 26,
     "metadata": {},
     "output_type": "execute_result"
    }
   ],
   "source": [
    "t1 = time.time()\n",
    "t1-t0"
   ]
  },
  {
   "cell_type": "markdown",
   "metadata": {
    "hidden": true
   },
   "source": [
    "This function should be used to train the VLS model."
   ]
  },
  {
   "cell_type": "code",
   "execution_count": 21,
   "metadata": {
    "hidden": true
   },
   "outputs": [
    {
     "name": "stdout",
     "output_type": "stream",
     "text": [
      "0.6% done\n",
      "1.1% done\n",
      "1.7% done\n",
      "2.2% done\n",
      "2.8% done\n",
      "3.3% done\n",
      "3.9% done\n",
      "4.4% done\n",
      "5.0% done\n",
      "5.5% done\n",
      "6.1% done\n",
      "6.6% done\n",
      "7.2% done\n",
      "7.7% done\n",
      "8.3% done\n",
      "8.8% done\n",
      "9.4% done\n",
      "9.9% done\n",
      "10.5% done\n",
      "11.0% done\n",
      "11.6% done\n",
      "12.2% done\n",
      "12.7% done\n",
      "13.3% done\n",
      "13.8% done\n",
      "14.4% done\n",
      "14.9% done\n",
      "15.5% done\n",
      "16.0% done\n",
      "16.6% done\n",
      "17.1% done\n",
      "17.7% done\n",
      "18.2% done\n",
      "18.8% done\n",
      "19.3% done\n",
      "19.9% done\n",
      "Train: 5.073108215524693 \n",
      "Valid: 5.1813329735187565 \n",
      "\n",
      "20.4% done\n",
      "21.0% done\n",
      "21.5% done\n",
      "22.1% done\n",
      "22.7% done\n",
      "23.2% done\n",
      "23.8% done\n",
      "24.3% done\n",
      "24.9% done\n",
      "25.4% done\n",
      "26.0% done\n",
      "26.5% done\n",
      "27.1% done\n",
      "27.6% done\n",
      "28.2% done\n",
      "28.7% done\n",
      "29.3% done\n",
      "29.8% done\n",
      "30.4% done\n",
      "30.9% done\n",
      "31.5% done\n",
      "32.0% done\n",
      "32.6% done\n",
      "33.1% done\n",
      "33.7% done\n",
      "34.3% done\n",
      "34.8% done\n",
      "35.4% done\n",
      "35.9% done\n",
      "36.5% done\n",
      "37.0% done\n",
      "37.6% done\n",
      "38.1% done\n",
      "38.7% done\n",
      "39.2% done\n",
      "39.8% done\n",
      "Train: 5.2609340686990755 \n",
      "Valid: 5.150072846749817 \n",
      "\n",
      "40.3% done\n",
      "40.9% done\n",
      "41.4% done\n",
      "42.0% done\n",
      "42.5% done\n",
      "43.1% done\n",
      "43.6% done\n",
      "44.2% done\n",
      "44.8% done\n",
      "45.3% done\n",
      "45.9% done\n",
      "46.4% done\n",
      "47.0% done\n",
      "47.5% done\n",
      "48.1% done\n",
      "48.6% done\n",
      "49.2% done\n",
      "49.7% done\n",
      "50.3% done\n",
      "50.8% done\n",
      "51.4% done\n",
      "51.9% done\n",
      "52.5% done\n",
      "53.0% done\n",
      "53.6% done\n",
      "54.1% done\n",
      "54.7% done\n",
      "55.2% done\n",
      "55.8% done\n",
      "56.4% done\n",
      "56.9% done\n",
      "57.5% done\n",
      "58.0% done\n",
      "58.6% done\n",
      "59.1% done\n",
      "59.7% done\n",
      "Train: 5.161083303316675 \n",
      "Valid: 5.251803461951439 \n",
      "\n",
      "60.2% done\n",
      "60.8% done\n",
      "61.3% done\n",
      "61.9% done\n",
      "62.4% done\n",
      "63.0% done\n",
      "63.5% done\n",
      "64.1% done\n",
      "64.6% done\n",
      "65.2% done\n",
      "65.7% done\n",
      "66.3% done\n",
      "66.9% done\n",
      "67.4% done\n",
      "68.0% done\n",
      "68.5% done\n",
      "69.1% done\n",
      "69.6% done\n",
      "70.2% done\n",
      "70.7% done\n",
      "71.3% done\n",
      "71.8% done\n",
      "72.4% done\n",
      "72.9% done\n",
      "73.5% done\n",
      "74.0% done\n",
      "74.6% done\n",
      "75.1% done\n",
      "75.7% done\n",
      "76.2% done\n",
      "76.8% done\n",
      "77.3% done\n",
      "77.9% done\n",
      "78.5% done\n",
      "79.0% done\n",
      "79.6% done\n",
      "Train: 5.275578630090964 \n",
      "Valid: 5.228825560723893 \n",
      "\n",
      "80.1% done\n",
      "80.7% done\n",
      "81.2% done\n",
      "81.8% done\n",
      "82.3% done\n",
      "82.9% done\n",
      "83.4% done\n",
      "84.0% done\n",
      "84.5% done\n",
      "85.1% done\n",
      "85.6% done\n",
      "86.2% done\n",
      "86.7% done\n",
      "87.3% done\n",
      "87.8% done\n",
      "88.4% done\n",
      "89.0% done\n",
      "89.5% done\n",
      "90.1% done\n",
      "90.6% done\n",
      "91.2% done\n",
      "91.7% done\n",
      "92.3% done\n",
      "92.8% done\n",
      "93.4% done\n",
      "93.9% done\n",
      "94.5% done\n",
      "95.0% done\n",
      "95.6% done\n",
      "96.1% done\n",
      "96.7% done\n",
      "97.2% done\n",
      "97.8% done\n",
      "98.3% done\n",
      "98.9% done\n",
      "99.4% done\n",
      "Train: 5.17569672820544 \n",
      "Valid: 5.021304919262125 \n",
      "\n",
      "100.0% done\n"
     ]
    }
   ],
   "source": [
    "fit.lstm_rnn_vls(enc,dec,train_iter,valid_iter,epochs,opt_enc,opt_dec,loss_fn,n_words_trg, trg_sos_id,\n",
    "                 pad_src_id, pad_trg_id,end_train=int(train_len/5),end_val=int(val_len/5),\n",
    "                 print_every=int(train_len/(5*5)))"
   ]
  },
  {
   "cell_type": "markdown",
   "metadata": {
    "hidden": true
   },
   "source": [
    "Fit functions automatically save progress along with printing losses (see source code of fit functions), but these functions can be used to manually save / load models."
   ]
  },
  {
   "cell_type": "code",
   "execution_count": 113,
   "metadata": {
    "hidden": true
   },
   "outputs": [],
   "source": [
    "model_path_Multi30k = 'models/LSTM_RNN/Multi30k/'\n",
    "model_path_WMT14 = 'models/LSTM_RNN/WMT14/'"
   ]
  },
  {
   "cell_type": "markdown",
   "metadata": {
    "hidden": true
   },
   "source": [
    "Loading / saving Multi30k models"
   ]
  },
  {
   "cell_type": "code",
   "execution_count": 114,
   "metadata": {
    "hidden": true
   },
   "outputs": [],
   "source": [
    "enc.load_state_dict(torch.load(f'{model_path_Multi30k}enc.pt'))\n",
    "dec.load_state_dict(torch.load(f'{model_path_Multi30k}dec.pt'))"
   ]
  },
  {
   "cell_type": "code",
   "execution_count": 28,
   "metadata": {
    "hidden": true
   },
   "outputs": [],
   "source": [
    "torch.save(enc.state_dict(), f'{model_path_Multi30k}enc.pt')\n",
    "torch.save(dec.state_dict(), f'{model_path_Multi30k}dec.pt')"
   ]
  },
  {
   "cell_type": "markdown",
   "metadata": {
    "hidden": true
   },
   "source": [
    "Loading / saving WMT14 models"
   ]
  },
  {
   "cell_type": "code",
   "execution_count": 18,
   "metadata": {
    "hidden": true
   },
   "outputs": [],
   "source": [
    "enc.load_state_dict(torch.load(f'{model_path_WMT14}enc.pt'))\n",
    "dec.load_state_dict(torch.load(f'{model_path_WMT14}dec.pt'))"
   ]
  },
  {
   "cell_type": "code",
   "execution_count": 17,
   "metadata": {
    "hidden": true
   },
   "outputs": [],
   "source": [
    "torch.save(enc.state_dict(), f'{model_path_WMT14}enc.pt')\n",
    "torch.save(dec.state_dict(), f'{model_path_WMT14}dec.pt')"
   ]
  },
  {
   "cell_type": "markdown",
   "metadata": {
    "hidden": true
   },
   "source": [
    "Example of loading 3rd iteration of Multi30k model."
   ]
  },
  {
   "cell_type": "code",
   "execution_count": 15,
   "metadata": {
    "hidden": true
   },
   "outputs": [],
   "source": [
    "enc.load_state_dict(torch.load(f'{model_path_Multi30k}enc_3.pt'))\n",
    "dec.load_state_dict(torch.load(f'{model_path_Multi30k}dec_3.pt'))"
   ]
  },
  {
   "cell_type": "markdown",
   "metadata": {
    "heading_collapsed": true,
    "hidden": true
   },
   "source": [
    "##### RNNsearch"
   ]
  },
  {
   "cell_type": "markdown",
   "metadata": {
    "hidden": true
   },
   "source": [
    "Setting up some training parameters - optimizers, learning rate, loss function, number of epochs"
   ]
  },
  {
   "cell_type": "code",
   "execution_count": 37,
   "metadata": {
    "hidden": true
   },
   "outputs": [],
   "source": [
    "opt_enc = optim.Adadelta(enc.parameters())\n",
    "opt_dec = optim.Adadelta(dec.parameters())\n",
    "loss_fn = F.nll_loss\n",
    "epochs = 1"
   ]
  },
  {
   "cell_type": "markdown",
   "metadata": {
    "hidden": true
   },
   "source": [
    "These parameters serve for selecting an amount of data to go through each epoch (it's convenient to use fractions of original length). Some additional parameters can also be found - number of (moving) losses to plot and saving frequency. Role of batch size and teacher forcing should be obvious (attention - the batch size here refers to number of gradients computed before updating weights, not parallel computation)."
   ]
  },
  {
   "cell_type": "code",
   "execution_count": 38,
   "metadata": {
    "hidden": true
   },
   "outputs": [],
   "source": [
    "end_train = int(train_len/2.5)\n",
    "end_val = int(val_len/10)\n",
    "plot_every = int(train_len/(2.5*30))\n",
    "save_every = int(train_len/(2.5*3))\n",
    "batch_size = 8\n",
    "teacher_forcing = 0.8"
   ]
  },
  {
   "cell_type": "code",
   "execution_count": 39,
   "metadata": {
    "hidden": true
   },
   "outputs": [],
   "source": [
    "t0 = time.time()"
   ]
  },
  {
   "cell_type": "code",
   "execution_count": 40,
   "metadata": {
    "hidden": true,
    "scrolled": false
   },
   "outputs": [
    {
     "data": {
      "application/vnd.jupyter.widget-view+json": {
       "model_id": "8499ff9256c7446d9dc09e22d259949a",
       "version_major": 2,
       "version_minor": 0
      },
      "text/plain": [
       "HBox(children=(IntProgress(value=0, max=11600), HTML(value='')))"
      ]
     },
     "metadata": {},
     "output_type": "display_data"
    },
    {
     "name": "stdout",
     "output_type": "stream",
     "text": [
      "\n",
      "Train: 4.453714775567008 \n",
      "Valid: 4.4773122497124245\n"
     ]
    },
    {
     "data": {
      "image/png": "[encoded data removed]",
      "text/plain": [
       "<Figure size 432x288 with 1 Axes>"
      ]
     },
     "metadata": {},
     "output_type": "display_data"
    }
   ],
   "source": [
    "fit.rnnsearch(enc, dec, train_iter, valid_iter, epochs, opt_enc, opt_dec, loss_fn, n_words_trg, \n",
    "              teacher_forcing, end_train, end_val, plot_every, save_every, batch_size)"
   ]
  },
  {
   "cell_type": "code",
   "execution_count": 41,
   "metadata": {
    "hidden": true
   },
   "outputs": [],
   "source": [
    "teacher_forcing = 0.6"
   ]
  },
  {
   "cell_type": "code",
   "execution_count": 42,
   "metadata": {
    "hidden": true
   },
   "outputs": [
    {
     "data": {
      "application/vnd.jupyter.widget-view+json": {
       "model_id": "87509d7d43624d41a0ff04a203c920a2",
       "version_major": 2,
       "version_minor": 0
      },
      "text/plain": [
       "HBox(children=(IntProgress(value=0, max=11600), HTML(value='')))"
      ]
     },
     "metadata": {},
     "output_type": "display_data"
    },
    {
     "name": "stdout",
     "output_type": "stream",
     "text": [
      "\n",
      "Train: 4.02636455191244 \n",
      "Valid: 4.0777368433404675\n"
     ]
    },
    {
     "data": {
      "image/png": "[encoded data removed]",
      "text/plain": [
       "<Figure size 432x288 with 1 Axes>"
      ]
     },
     "metadata": {},
     "output_type": "display_data"
    }
   ],
   "source": [
    "fit.rnnsearch(enc, dec, train_iter, valid_iter, epochs, opt_enc, opt_dec, loss_fn, n_words_trg, \n",
    "              teacher_forcing, end_train, end_val, plot_every, save_every, batch_size)"
   ]
  },
  {
   "cell_type": "code",
   "execution_count": 43,
   "metadata": {
    "hidden": true
   },
   "outputs": [],
   "source": [
    "teacher_forcing = 0.4"
   ]
  },
  {
   "cell_type": "code",
   "execution_count": 44,
   "metadata": {
    "hidden": true
   },
   "outputs": [
    {
     "data": {
      "application/vnd.jupyter.widget-view+json": {
       "model_id": "1351cc7536b04bac88be94f34f22230b",
       "version_major": 2,
       "version_minor": 0
      },
      "text/plain": [
       "HBox(children=(IntProgress(value=0, max=11600), HTML(value='')))"
      ]
     },
     "metadata": {},
     "output_type": "display_data"
    },
    {
     "name": "stdout",
     "output_type": "stream",
     "text": [
      "\n",
      "Train: 4.109714927059589 \n",
      "Valid: 3.847453050094076\n"
     ]
    },
    {
     "data": {
      "image/png": "[encoded data removed]",
      "text/plain": [
       "<Figure size 432x288 with 1 Axes>"
      ]
     },
     "metadata": {},
     "output_type": "display_data"
    }
   ],
   "source": [
    "fit.rnnsearch(enc, dec, train_iter, valid_iter, epochs, opt_enc, opt_dec, loss_fn, n_words_trg, \n",
    "              teacher_forcing, end_train, end_val, plot_every, save_every, batch_size)"
   ]
  },
  {
   "cell_type": "code",
   "execution_count": 45,
   "metadata": {
    "hidden": true
   },
   "outputs": [],
   "source": [
    "teacher_forcing = 0.2"
   ]
  },
  {
   "cell_type": "code",
   "execution_count": 46,
   "metadata": {
    "hidden": true
   },
   "outputs": [
    {
     "data": {
      "application/vnd.jupyter.widget-view+json": {
       "model_id": "870416b7274649a99d9e8e6125755ffb",
       "version_major": 2,
       "version_minor": 0
      },
      "text/plain": [
       "HBox(children=(IntProgress(value=0, max=11600), HTML(value='')))"
      ]
     },
     "metadata": {},
     "output_type": "display_data"
    },
    {
     "name": "stdout",
     "output_type": "stream",
     "text": [
      "\n",
      "Train: 3.8310373047790907 \n",
      "Valid: 3.997946250556719\n"
     ]
    },
    {
     "data": {
      "image/png": "[encoded data removed]",
      "text/plain": [
       "<Figure size 432x288 with 1 Axes>"
      ]
     },
     "metadata": {},
     "output_type": "display_data"
    }
   ],
   "source": [
    "fit.rnnsearch(enc, dec, train_iter, valid_iter, epochs, opt_enc, opt_dec, loss_fn, n_words_trg, \n",
    "              teacher_forcing, end_train, end_val, plot_every, save_every, batch_size)"
   ]
  },
  {
   "cell_type": "code",
   "execution_count": 47,
   "metadata": {
    "hidden": true
   },
   "outputs": [],
   "source": [
    "teacher_forcing = 0"
   ]
  },
  {
   "cell_type": "code",
   "execution_count": 48,
   "metadata": {
    "hidden": true
   },
   "outputs": [
    {
     "data": {
      "application/vnd.jupyter.widget-view+json": {
       "model_id": "d0711483e86d462b9aeda1656a185d69",
       "version_major": 2,
       "version_minor": 0
      },
      "text/plain": [
       "HBox(children=(IntProgress(value=0, max=11600), HTML(value='')))"
      ]
     },
     "metadata": {},
     "output_type": "display_data"
    },
    {
     "name": "stdout",
     "output_type": "stream",
     "text": [
      "\n",
      "Train: 3.9827526902208232 \n",
      "Valid: 3.9728590775244306\n"
     ]
    },
    {
     "data": {
      "image/png": "[encoded data removed]",
      "text/plain": [
       "<Figure size 432x288 with 1 Axes>"
      ]
     },
     "metadata": {},
     "output_type": "display_data"
    }
   ],
   "source": [
    "fit.rnnsearch(enc, dec, train_iter, valid_iter, epochs, opt_enc, opt_dec, loss_fn, n_words_trg, \n",
    "              teacher_forcing, end_train, end_val, plot_every, save_every, batch_size)"
   ]
  },
  {
   "cell_type": "code",
   "execution_count": 49,
   "metadata": {
    "hidden": true
   },
   "outputs": [
    {
     "data": {
      "text/plain": [
       "17338.646909952164"
      ]
     },
     "execution_count": 49,
     "metadata": {},
     "output_type": "execute_result"
    }
   ],
   "source": [
    "t1 = time.time()\n",
    "t1-t0"
   ]
  },
  {
   "cell_type": "markdown",
   "metadata": {
    "hidden": true
   },
   "source": [
    "Loading trained models"
   ]
  },
  {
   "cell_type": "code",
   "execution_count": 102,
   "metadata": {
    "hidden": true
   },
   "outputs": [],
   "source": [
    "model_path_Multi30k = 'models/RNNsearch/Multi30k/'\n",
    "model_path_WMT14 = 'models/RNNsearch/WMT14/'"
   ]
  },
  {
   "cell_type": "markdown",
   "metadata": {
    "hidden": true
   },
   "source": [
    "Loading / saving Multi30k models"
   ]
  },
  {
   "cell_type": "markdown",
   "metadata": {
    "hidden": true
   },
   "source": [
    "(currently there is incompatible version of model in models folder, so this won't work)"
   ]
  },
  {
   "cell_type": "code",
   "execution_count": 103,
   "metadata": {
    "hidden": true
   },
   "outputs": [],
   "source": [
    "enc.load_state_dict(torch.load(f'{model_path_Multi30k}enc.pt'))\n",
    "dec.load_state_dict(torch.load(f'{model_path_Multi30k}dec.pt'))"
   ]
  },
  {
   "cell_type": "code",
   "execution_count": 51,
   "metadata": {
    "hidden": true
   },
   "outputs": [],
   "source": [
    "torch.save(enc.state_dict(), f'{model_path_Multi30k}enc.pt')\n",
    "torch.save(dec.state_dict(), f'{model_path_Multi30k}dec.pt')"
   ]
  },
  {
   "cell_type": "markdown",
   "metadata": {
    "heading_collapsed": true
   },
   "source": [
    "### Analysis"
   ]
  },
  {
   "cell_type": "markdown",
   "metadata": {
    "hidden": true
   },
   "source": [
    "We won't dig deep into the model's workings / performance. For now, we will only look at examples of the model's translations. This will give us some insight into it's capabilities and we will also be able to better interpret the results given by applying custom metric."
   ]
  },
  {
   "cell_type": "markdown",
   "metadata": {
    "heading_collapsed": true,
    "hidden": true
   },
   "source": [
    "##### LSTM RNN"
   ]
  },
  {
   "cell_type": "markdown",
   "metadata": {
    "hidden": true
   },
   "source": [
    "To get new example, simply reload the line below. "
   ]
  },
  {
   "cell_type": "code",
   "execution_count": 86,
   "metadata": {
    "hidden": true
   },
   "outputs": [],
   "source": [
    "rand_ex = next(iter(valid_iter))\n",
    "ex_src,ex_trg = getattr(rand_ex,src),getattr(rand_ex,trg)"
   ]
  },
  {
   "cell_type": "markdown",
   "metadata": {
    "hidden": true
   },
   "source": [
    "These two cells show what we are going to translate and it's human translation."
   ]
  },
  {
   "cell_type": "code",
   "execution_count": 87,
   "metadata": {
    "hidden": true
   },
   "outputs": [
    {
     "data": {
      "text/plain": [
       "['zwei',\n",
       " 'menschen',\n",
       " 'unterhalten',\n",
       " 'sich',\n",
       " 'bei',\n",
       " 'einer',\n",
       " 'roten',\n",
       " 'telefonzelle',\n",
       " 'während',\n",
       " 'in',\n",
       " 'der',\n",
       " 'nähe',\n",
       " 'bauarbeiter',\n",
       " 'eine',\n",
       " 'pause',\n",
       " 'machen',\n",
       " '<EOS>']"
      ]
     },
     "execution_count": 87,
     "metadata": {},
     "output_type": "execute_result"
    }
   ],
   "source": [
    "[SRC.vocab.itos[x] for x in ex_src[:,0]]"
   ]
  },
  {
   "cell_type": "code",
   "execution_count": 88,
   "metadata": {
    "hidden": true
   },
   "outputs": [
    {
     "data": {
      "text/plain": [
       "['<SOS>',\n",
       " 'two',\n",
       " 'people',\n",
       " 'are',\n",
       " 'talking',\n",
       " 'near',\n",
       " 'a',\n",
       " 'red',\n",
       " 'phone',\n",
       " 'booth',\n",
       " 'while',\n",
       " 'construction',\n",
       " 'workers',\n",
       " 'rest',\n",
       " 'nearby',\n",
       " '<EOS>']"
      ]
     },
     "execution_count": 88,
     "metadata": {},
     "output_type": "execute_result"
    }
   ],
   "source": [
    "[TRG.vocab.itos[x] for x in ex_trg[:,0]]"
   ]
  },
  {
   "cell_type": "markdown",
   "metadata": {
    "hidden": true
   },
   "source": [
    "Here we use our model to translate the sentence. Choose appropriate translate function (Multi30k, Multi30k_VLS and WMT14 respectively)."
   ]
  },
  {
   "cell_type": "code",
   "execution_count": 89,
   "metadata": {
    "hidden": true
   },
   "outputs": [],
   "source": [
    "sent_ids = translate.Multi30k(enc,dec,trg_sos_id,trg_eos_id,ex_src)"
   ]
  },
  {
   "cell_type": "code",
   "execution_count": null,
   "metadata": {
    "hidden": true
   },
   "outputs": [],
   "source": [
    "sent_ids = translate.Multi30k_VLS(enc,dec,trg_sos_id,trg_eos_id,pad_src_id,ex_src[:,0][:,None])"
   ]
  },
  {
   "cell_type": "code",
   "execution_count": 22,
   "metadata": {
    "hidden": true
   },
   "outputs": [],
   "source": [
    "sent_ids = translate.WMT14(enc,dec,trg_sos_id,trg_eos_id,ex_src)"
   ]
  },
  {
   "cell_type": "markdown",
   "metadata": {
    "hidden": true
   },
   "source": [
    "Now we can take a look at the sentence our model created."
   ]
  },
  {
   "cell_type": "code",
   "execution_count": 90,
   "metadata": {
    "hidden": true
   },
   "outputs": [
    {
     "data": {
      "text/plain": [
       "['two', 'people', 'are', 'a', 'a', 'a', 'a', 'a', 'and', '<EOS>']"
      ]
     },
     "execution_count": 90,
     "metadata": {},
     "output_type": "execute_result"
    }
   ],
   "source": [
    "[TRG.vocab.itos[x] for x in sent_ids]"
   ]
  },
  {
   "cell_type": "markdown",
   "metadata": {
    "hidden": true
   },
   "source": [
    "Definitely not perfect, but some pattern can be seen. Here I provide some translations without source / target sentences."
   ]
  },
  {
   "cell_type": "code",
   "execution_count": 116,
   "metadata": {
    "hidden": true
   },
   "outputs": [
    {
     "name": "stdout",
     "output_type": "stream",
     "text": [
      "['two', 'dogs', 'dogs', 'are', 'the', 'the', '<EOS>']\n",
      "['a', 'man', 'and', 'woman', 'woman', 'a', 'a', 'a', 'a', 'a', '<EOS>']\n",
      "['several', 'men', 'men', 'sitting', 'sitting', 'the', 'in', 'a', 'with', 'with', 'with', 'in', 'a', '<EOS>']\n",
      "['three', 'girls', 'are', 'on', 'the', 'the', 'in', 'the', 'in', 'the', '<EOS>']\n",
      "['the', 'people', 'are', 'the', 'in', 'the', 'in', '<EOS>']\n",
      "['three', 'dogs', 'are', 'in', 'the', 'in', 'the', '<EOS>']\n",
      "['a', 'woman', 'is', 'standing', 'standing', 'a', 'a', 'a', 'a', 'a', '<EOS>']\n",
      "['a', 'man', 'in', 'a', 'red', 'shirt', 'is', 'in', 'in', 'in', 'in', 'in', 'in', '<EOS>']\n",
      "['a', 'man', 'in', 'a', 'standing', 'stands', 'a', 'on', 'a', 'a', 'a', 'a', '<EOS>']\n",
      "['a', 'dog', 'is', 'a', 'a', 'dog', 'in', '<EOS>']\n"
     ]
    }
   ],
   "source": [
    "for _ in range(10):\n",
    "    rand_ex = next(iter(valid_iter))\n",
    "    ex_src,ex_trg = getattr(rand_ex,src),getattr(rand_ex,trg)\n",
    "    sent_ids = translate.Multi30k(enc, dec, trg_sos_id, trg_eos_id, ex_src)\n",
    "    print([TRG.vocab.itos[x] for x in sent_ids])"
   ]
  },
  {
   "cell_type": "markdown",
   "metadata": {
    "heading_collapsed": true,
    "hidden": true
   },
   "source": [
    "##### RNNsearch"
   ]
  },
  {
   "cell_type": "markdown",
   "metadata": {
    "hidden": true
   },
   "source": [
    "To get new example, simply reload the line below. "
   ]
  },
  {
   "cell_type": "code",
   "execution_count": 59,
   "metadata": {
    "hidden": true
   },
   "outputs": [],
   "source": [
    "rand_ex = next(iter(valid_iter))\n",
    "ex_src,ex_trg = getattr(rand_ex,src),getattr(rand_ex,trg)"
   ]
  },
  {
   "cell_type": "markdown",
   "metadata": {
    "hidden": true
   },
   "source": [
    "These two cells show what we are going to translate and it's human translation."
   ]
  },
  {
   "cell_type": "code",
   "execution_count": 60,
   "metadata": {
    "hidden": true
   },
   "outputs": [
    {
     "data": {
      "text/plain": [
       "['eine',\n",
       " 'gruppe',\n",
       " 'von',\n",
       " 'menschen',\n",
       " 'steht',\n",
       " 'vor',\n",
       " 'einer',\n",
       " '<unk>',\n",
       " 'auf',\n",
       " 'einem',\n",
       " 'parkplatz',\n",
       " '<EOS>']"
      ]
     },
     "execution_count": 60,
     "metadata": {},
     "output_type": "execute_result"
    }
   ],
   "source": [
    "[SRC.vocab.itos[x] for x in ex_src[:,0]]"
   ]
  },
  {
   "cell_type": "code",
   "execution_count": 61,
   "metadata": {
    "hidden": true
   },
   "outputs": [
    {
     "data": {
      "text/plain": [
       "['<SOS>',\n",
       " 'a',\n",
       " 'group',\n",
       " 'of',\n",
       " 'people',\n",
       " 'standing',\n",
       " 'in',\n",
       " 'front',\n",
       " 'of',\n",
       " 'a',\n",
       " 'hut',\n",
       " 'in',\n",
       " 'a',\n",
       " 'parking',\n",
       " 'lot',\n",
       " '<EOS>']"
      ]
     },
     "execution_count": 61,
     "metadata": {},
     "output_type": "execute_result"
    }
   ],
   "source": [
    "[TRG.vocab.itos[x] for x in ex_trg[:,0]]"
   ]
  },
  {
   "cell_type": "code",
   "execution_count": 106,
   "metadata": {
    "hidden": true
   },
   "outputs": [],
   "source": [
    "sent_ids = translate.rnnsearch(enc, dec, trg_sos_id, trg_eos_id, ex_src)"
   ]
  },
  {
   "cell_type": "markdown",
   "metadata": {
    "hidden": true
   },
   "source": [
    "Here is the resulting sequence."
   ]
  },
  {
   "cell_type": "code",
   "execution_count": 107,
   "metadata": {
    "hidden": true
   },
   "outputs": [
    {
     "data": {
      "text/plain": [
       "['two',\n",
       " 'two',\n",
       " 'two',\n",
       " 'two',\n",
       " 'two',\n",
       " 'two',\n",
       " 'two',\n",
       " 'two',\n",
       " 'two',\n",
       " 'two',\n",
       " 'two',\n",
       " 'two',\n",
       " 'two',\n",
       " 'two',\n",
       " 'two',\n",
       " 'two',\n",
       " 'two',\n",
       " 'two',\n",
       " 'two',\n",
       " 'two',\n",
       " 'two',\n",
       " 'two',\n",
       " 'two',\n",
       " 'two',\n",
       " 'two',\n",
       " 'two',\n",
       " 'two',\n",
       " 'two',\n",
       " 'two',\n",
       " 'two']"
      ]
     },
     "execution_count": 107,
     "metadata": {},
     "output_type": "execute_result"
    }
   ],
   "source": [
    "[TRG.vocab.itos[x] for x in sent_ids]"
   ]
  },
  {
   "cell_type": "markdown",
   "metadata": {
    "hidden": true
   },
   "source": [
    "That's pretty bad. Here I provide some translations without source / target sentences."
   ]
  },
  {
   "cell_type": "code",
   "execution_count": 108,
   "metadata": {
    "hidden": true
   },
   "outputs": [
    {
     "name": "stdout",
     "output_type": "stream",
     "text": [
      "['the', 'of', 'outside', 'of', 'outside', 'of', 'outside', 'of', 'outside', 'of', 'outside', 'of', 'outside', 'of', 'outside', 'of', 'outside', 'of', 'outside', 'of', 'outside', 'of', 'outside', 'of', 'outside', 'of', 'outside', 'of', 'outside', 'of']\n",
      "['a', 'a', 'a', 'a', 'a', 'a', 'a', 'a', 'a', 'a', 'a', 'a', 'a', 'a', 'a', 'a', 'a', 'a', 'a', 'a', 'a', 'a', 'a', 'a', 'a', 'a', 'a', 'a', 'a', 'a']\n",
      "['a', 'woman', 'woman', 'woman', 'woman', 'woman', 'woman', 'woman', 'woman', 'woman', 'woman', 'woman', 'woman', 'woman', 'woman', 'woman', 'woman', 'woman', 'woman', 'woman', 'woman', 'woman', 'woman', 'woman', 'woman', 'woman', 'woman', 'woman', 'woman', 'woman']\n",
      "['two', 'two', 'two', 'two', 'two', 'two', 'two', 'two', 'two', 'two', 'two', 'two', 'two', 'two', 'two', 'two', 'two', 'two', 'two', 'two', 'two', 'two', 'two', 'two', 'two', 'two', 'two', 'two', 'two', 'two']\n",
      "['a', 'group', 'of', 'a', 'group', 'of', 'a', 'group', 'of', 'a', 'group', 'of', 'a', 'group', 'of', 'a', 'group', 'of', 'a', 'group', 'of', 'a', 'group', 'of', 'a', 'group', 'of', 'a', 'group', 'of']\n",
      "['two', 'two', 'two', 'two', 'two', 'two', 'two', 'two', 'two', 'two', 'two', 'two', 'two', 'two', 'two', 'two', 'two', 'two', 'two', 'two', 'two', 'two', 'two', 'two', 'two', 'two', 'two', 'two', 'two', 'two']\n",
      "['an', 'older', 'an', 'older', 'an', 'older', 'an', 'older', 'an', 'older', 'an', 'older', 'an', 'older', 'an', 'older', 'an', 'older', 'an', 'older', 'an', 'older', 'an', 'older', 'an', 'older', 'an', 'older', 'an', 'older']\n",
      "['an', 'are', 'waiting', 'waiting', 'waiting', 'waiting', 'waiting', 'waiting', 'waiting', 'waiting', 'waiting', 'waiting', 'waiting', 'waiting', 'waiting', 'waiting', 'waiting', 'waiting', 'waiting', 'waiting', 'waiting', 'waiting', 'waiting', 'waiting', 'waiting', 'waiting', 'waiting', 'waiting', 'waiting', 'waiting']\n",
      "['a', 'man', 'man', 'man', 'man', 'man', 'man', 'man', 'man', 'man', 'man', 'man', 'man', 'man', 'man', 'man', 'man', 'man', 'man', 'man', 'man', 'man', 'man', 'man', 'man', 'man', 'man', 'man', 'man', 'man']\n",
      "['a', 'man', 'man', 'man', 'man', 'man', 'man', 'man', 'man', 'man', 'man', 'man', 'man', 'man', 'man', 'man', 'man', 'man', 'man', 'man', 'man', 'man', 'man', 'man', 'man', 'man', 'man', 'man', 'man', 'man']\n"
     ]
    }
   ],
   "source": [
    "for _ in range(10):\n",
    "    rand_ex = next(iter(valid_iter))\n",
    "    ex_src,ex_trg = getattr(rand_ex,src),getattr(rand_ex,trg)\n",
    "    sent_ids = translate.rnnsearch(enc, dec, trg_sos_id, trg_eos_id, ex_src)\n",
    "    print([TRG.vocab.itos[x] for x in sent_ids])"
   ]
  },
  {
   "cell_type": "markdown",
   "metadata": {
    "heading_collapsed": true,
    "hidden": true
   },
   "source": [
    "##### Comparison"
   ]
  },
  {
   "cell_type": "code",
   "execution_count": 104,
   "metadata": {
    "hidden": true
   },
   "outputs": [],
   "source": [
    "num = 0\n",
    "for par in enc.parameters():\n",
    "    num += len(par)\n",
    "for par in dec.parameters():\n",
    "    num += len(par)"
   ]
  },
  {
   "cell_type": "code",
   "execution_count": 105,
   "metadata": {
    "hidden": true
   },
   "outputs": [
    {
     "data": {
      "text/plain": [
       "52405"
      ]
     },
     "execution_count": 105,
     "metadata": {},
     "output_type": "execute_result"
    }
   ],
   "source": [
    "num"
   ]
  },
  {
   "cell_type": "markdown",
   "metadata": {
    "hidden": true
   },
   "source": [
    "*LSTM RNN* \n",
    "- ~150 000 examples * ~15 words = ~2 250 000 words\n",
    "- validation loss = 4.8\n",
    "- train time ~120 minutes (GeForce GTX 1050 (2GB))\n",
    "- parameters - 55 203"
   ]
  },
  {
   "cell_type": "markdown",
   "metadata": {
    "hidden": true
   },
   "source": [
    "*RNNsearch* \n",
    "- ~60 000 examples * ~15 words = ~900 000 words\n",
    "- validation loss = 3.97\n",
    "- train time ~300 minutes (GeForce GTX 1050 (2GB))\n",
    "- parameters - 52 405"
   ]
  },
  {
   "cell_type": "markdown",
   "metadata": {
    "hidden": true
   },
   "source": [
    "The RNNsearch looks better, but looking to sentence translations above we can see that it performs rather poorly."
   ]
  },
  {
   "cell_type": "markdown",
   "metadata": {
    "heading_collapsed": true
   },
   "source": [
    "### Summary"
   ]
  },
  {
   "cell_type": "markdown",
   "metadata": {
    "hidden": true
   },
   "source": [
    "In this notebook, I introduced two models for neural machine translation, LSTM RNN and RNNsearch. To train them, we used a small dataset focused on narrow field of language (image captions)."
   ]
  },
  {
   "cell_type": "markdown",
   "metadata": {
    "hidden": true
   },
   "source": [
    "Actual translations and loss comparison can be seen in the analysis part. Both models perform rather poorly, but for now, it seems that the LSTM RNN is better in all aspects but loss. I will continue working on this to achieve some better results."
   ]
  }
 ],
 "metadata": {
  "kernelspec": {
   "display_name": "Python 3",
   "language": "python",
   "name": "python3"
  },
  "language_info": {
   "codemirror_mode": {
    "name": "ipython",
    "version": 3
   },
   "file_extension": ".py",
   "mimetype": "text/x-python",
   "name": "python",
   "nbconvert_exporter": "python",
   "pygments_lexer": "ipython3",
   "version": "3.7.0"
  }
 },
 "nbformat": 4,
 "nbformat_minor": 2
}
